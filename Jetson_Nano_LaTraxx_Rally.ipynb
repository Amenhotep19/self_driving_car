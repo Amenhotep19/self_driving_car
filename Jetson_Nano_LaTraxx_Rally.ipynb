{
 "cells": [
  {
   "cell_type": "markdown",
   "metadata": {},
   "source": [
    "Initial notebook for work on a self-driving car\n"
   ]
  },
  {
   "cell_type": "markdown",
   "metadata": {},
   "source": [
    "Important links:\n",
    "\n",
    "Oakland Race Rules:\n",
    "https://diyrobocars.com/2019/07/22/official-oakland-race-rules-2019-edition/\n",
    "\n",
    "\n",
    "Jetson Nano Blog Posts:\n",
    "https://blogs.nvidia.com/blog/2019/11/04/enthusiasts-jetson-nano-diy-robocars-race/?utm_source=feedburner&utm_medium=feed&utm_campaign=Feed%3A+nvidiablog+%28The+NVIDIA+Blog%29\n",
    "\n",
    "https://medium.com/@NvidiaAI/at-diy-robocars-jetson-nano-delivers-big-boost-in-a-small-package-7f548d5859af\n",
    "\n",
    "\n",
    "GitHub repo with instructions for Jetson Nano build with LaTrax Rally & Tamiya TT02:\n",
    "https://github.com/NVIDIA-AI-IOT/jetracer#setup\n",
    "\n",
    "\n",
    "Stores:\n",
    "https://www.robocarstore.com/\n",
    "\n",
    "\n",
    "Amazon DeepRacer\n",
    "https://aws.amazon.com/deepracer/\n",
    "\n",
    "\n",
    "GitHub Repo for the mit-racer project:\n",
    "https://github.com/mit-racecar\n",
    "\n",
    "\n",
    "Instructions for the RACECAR/J project, based on the mit-racer::\n",
    "https://racecarj.com/pages/build-instructions"
   ]
  },
  {
   "cell_type": "markdown",
   "metadata": {},
   "source": [
    "Medium.com post:\n",
    "\n",
    "https://medium.com/@gio_rosati/adventures-in-self-driving-model-cars-part-1-e201c001cd74?source=friends_link&sk=9cd9909cfded9a154033cb307509d056\n",
    "\n",
    "Initial Twitter post:\n",
    "\n",
    "<blockquote class=\"twitter-tweet\"><p lang=\"en\" dir=\"ltr\">Checking out a self-driving model car race this afternoon in Oakland. What a great platform for aspiring machine learning engineers (young or old!) to experiment and have fun. Plus free Brazilian BBQ! <a href=\"https://t.co/fLABKrgADk\">https://t.co/fLABKrgADk</a> <a href=\"https://t.co/pOPbTaq9sM\">pic.twitter.com/pOPbTaq9sM</a></p>&mdash; Giovanni Rosati (@giovannirosati) <a href=\"https://twitter.com/giovannirosati/status/1203441698874937345?ref_src=twsrc%5Etfw\">December 7, 2019</a></blockquote> <script async src=\"https://platform.twitter.com/widgets.js\" charset=\"utf-8\"></script>\n"
   ]
  },
  {
   "cell_type": "code",
   "execution_count": null,
   "metadata": {
    "collapsed": true
   },
   "outputs": [],
   "source": []
  }
 ],
 "metadata": {
  "kernelspec": {
   "display_name": "Python 3",
   "language": "python",
   "name": "python3"
  },
  "language_info": {
   "codemirror_mode": {
    "name": "ipython",
    "version": 3
   },
   "file_extension": ".py",
   "mimetype": "text/x-python",
   "name": "python",
   "nbconvert_exporter": "python",
   "pygments_lexer": "ipython3",
   "version": "3.6.8"
  }
 },
 "nbformat": 4,
 "nbformat_minor": 2
}
